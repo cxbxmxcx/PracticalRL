{
  "nbformat": 4,
  "nbformat_minor": 0,
  "metadata": {
    "colab": {
      "name": "PRL_Taxi_MAXQ.ipynb",
      "provenance": [],
      "authorship_tag": "ABX9TyMC7K4HDuEy6wj+7g+NWjQC",
      "include_colab_link": true
    },
    "kernelspec": {
      "name": "python3",
      "display_name": "Python 3"
    },
    "widgets": {
      "application/vnd.jupyter.widget-state+json": {
        "59368850fd3e49fca50f96f7c91162ac": {
          "model_module": "@jupyter-widgets/controls",
          "model_name": "HBoxModel",
          "state": {
            "_view_name": "HBoxView",
            "_dom_classes": [],
            "_model_name": "HBoxModel",
            "_view_module": "@jupyter-widgets/controls",
            "_model_module_version": "1.5.0",
            "_view_count": null,
            "_view_module_version": "1.5.0",
            "box_style": "",
            "layout": "IPY_MODEL_06554f6518444530acd938c39a401b6a",
            "_model_module": "@jupyter-widgets/controls",
            "children": [
              "IPY_MODEL_fba6bb9b71ab4c19aa3cde44ec48aa3b",
              "IPY_MODEL_dbf1b3674ccf4c9fac4e35763aed6b26"
            ]
          }
        },
        "06554f6518444530acd938c39a401b6a": {
          "model_module": "@jupyter-widgets/base",
          "model_name": "LayoutModel",
          "state": {
            "_view_name": "LayoutView",
            "grid_template_rows": null,
            "right": null,
            "justify_content": null,
            "_view_module": "@jupyter-widgets/base",
            "overflow": null,
            "_model_module_version": "1.2.0",
            "_view_count": null,
            "flex_flow": null,
            "width": null,
            "min_width": null,
            "border": null,
            "align_items": null,
            "bottom": null,
            "_model_module": "@jupyter-widgets/base",
            "top": null,
            "grid_column": null,
            "overflow_y": null,
            "overflow_x": null,
            "grid_auto_flow": null,
            "grid_area": null,
            "grid_template_columns": null,
            "flex": null,
            "_model_name": "LayoutModel",
            "justify_items": null,
            "grid_row": null,
            "max_height": null,
            "align_content": null,
            "visibility": null,
            "align_self": null,
            "height": null,
            "min_height": null,
            "padding": null,
            "grid_auto_rows": null,
            "grid_gap": null,
            "max_width": null,
            "order": null,
            "_view_module_version": "1.2.0",
            "grid_template_areas": null,
            "object_position": null,
            "object_fit": null,
            "grid_auto_columns": null,
            "margin": null,
            "display": null,
            "left": null
          }
        },
        "fba6bb9b71ab4c19aa3cde44ec48aa3b": {
          "model_module": "@jupyter-widgets/controls",
          "model_name": "FloatProgressModel",
          "state": {
            "_view_name": "ProgressView",
            "style": "IPY_MODEL_6b7d07515c484284bb9a59c0b8717e25",
            "_dom_classes": [],
            "description": "100%",
            "_model_name": "FloatProgressModel",
            "bar_style": "success",
            "max": 5501,
            "_view_module": "@jupyter-widgets/controls",
            "_model_module_version": "1.5.0",
            "value": 5501,
            "_view_count": null,
            "_view_module_version": "1.5.0",
            "orientation": "horizontal",
            "min": 0,
            "description_tooltip": null,
            "_model_module": "@jupyter-widgets/controls",
            "layout": "IPY_MODEL_12f4e7fbfd7f4bf7a82e2ca4221fa1eb"
          }
        },
        "dbf1b3674ccf4c9fac4e35763aed6b26": {
          "model_module": "@jupyter-widgets/controls",
          "model_name": "HTMLModel",
          "state": {
            "_view_name": "HTMLView",
            "style": "IPY_MODEL_133176521a3241fd865a123d6344cac9",
            "_dom_classes": [],
            "description": "",
            "_model_name": "HTMLModel",
            "placeholder": "​",
            "_view_module": "@jupyter-widgets/controls",
            "_model_module_version": "1.5.0",
            "value": " 5501/5501 [00:14&lt;00:00, 372.29it/s]",
            "_view_count": null,
            "_view_module_version": "1.5.0",
            "description_tooltip": null,
            "_model_module": "@jupyter-widgets/controls",
            "layout": "IPY_MODEL_4955db7f282444588d27d8c43234900a"
          }
        },
        "6b7d07515c484284bb9a59c0b8717e25": {
          "model_module": "@jupyter-widgets/controls",
          "model_name": "ProgressStyleModel",
          "state": {
            "_view_name": "StyleView",
            "_model_name": "ProgressStyleModel",
            "description_width": "initial",
            "_view_module": "@jupyter-widgets/base",
            "_model_module_version": "1.5.0",
            "_view_count": null,
            "_view_module_version": "1.2.0",
            "bar_color": null,
            "_model_module": "@jupyter-widgets/controls"
          }
        },
        "12f4e7fbfd7f4bf7a82e2ca4221fa1eb": {
          "model_module": "@jupyter-widgets/base",
          "model_name": "LayoutModel",
          "state": {
            "_view_name": "LayoutView",
            "grid_template_rows": null,
            "right": null,
            "justify_content": null,
            "_view_module": "@jupyter-widgets/base",
            "overflow": null,
            "_model_module_version": "1.2.0",
            "_view_count": null,
            "flex_flow": null,
            "width": null,
            "min_width": null,
            "border": null,
            "align_items": null,
            "bottom": null,
            "_model_module": "@jupyter-widgets/base",
            "top": null,
            "grid_column": null,
            "overflow_y": null,
            "overflow_x": null,
            "grid_auto_flow": null,
            "grid_area": null,
            "grid_template_columns": null,
            "flex": null,
            "_model_name": "LayoutModel",
            "justify_items": null,
            "grid_row": null,
            "max_height": null,
            "align_content": null,
            "visibility": null,
            "align_self": null,
            "height": null,
            "min_height": null,
            "padding": null,
            "grid_auto_rows": null,
            "grid_gap": null,
            "max_width": null,
            "order": null,
            "_view_module_version": "1.2.0",
            "grid_template_areas": null,
            "object_position": null,
            "object_fit": null,
            "grid_auto_columns": null,
            "margin": null,
            "display": null,
            "left": null
          }
        },
        "133176521a3241fd865a123d6344cac9": {
          "model_module": "@jupyter-widgets/controls",
          "model_name": "DescriptionStyleModel",
          "state": {
            "_view_name": "StyleView",
            "_model_name": "DescriptionStyleModel",
            "description_width": "",
            "_view_module": "@jupyter-widgets/base",
            "_model_module_version": "1.5.0",
            "_view_count": null,
            "_view_module_version": "1.2.0",
            "_model_module": "@jupyter-widgets/controls"
          }
        },
        "4955db7f282444588d27d8c43234900a": {
          "model_module": "@jupyter-widgets/base",
          "model_name": "LayoutModel",
          "state": {
            "_view_name": "LayoutView",
            "grid_template_rows": null,
            "right": null,
            "justify_content": null,
            "_view_module": "@jupyter-widgets/base",
            "overflow": null,
            "_model_module_version": "1.2.0",
            "_view_count": null,
            "flex_flow": null,
            "width": null,
            "min_width": null,
            "border": null,
            "align_items": null,
            "bottom": null,
            "_model_module": "@jupyter-widgets/base",
            "top": null,
            "grid_column": null,
            "overflow_y": null,
            "overflow_x": null,
            "grid_auto_flow": null,
            "grid_area": null,
            "grid_template_columns": null,
            "flex": null,
            "_model_name": "LayoutModel",
            "justify_items": null,
            "grid_row": null,
            "max_height": null,
            "align_content": null,
            "visibility": null,
            "align_self": null,
            "height": null,
            "min_height": null,
            "padding": null,
            "grid_auto_rows": null,
            "grid_gap": null,
            "max_width": null,
            "order": null,
            "_view_module_version": "1.2.0",
            "grid_template_areas": null,
            "object_position": null,
            "object_fit": null,
            "grid_auto_columns": null,
            "margin": null,
            "display": null,
            "left": null
          }
        }
      }
    }
  },
  "cells": [
    {
      "cell_type": "markdown",
      "metadata": {
        "id": "view-in-github",
        "colab_type": "text"
      },
      "source": [
        "<a href=\"https://colab.research.google.com/github/cxbxmxcx/PracticalRL/blob/master/PRL_Taxi_MAXQ.ipynb\" target=\"_parent\"><img src=\"https://colab.research.google.com/assets/colab-badge.svg\" alt=\"Open In Colab\"/></a>"
      ]
    },
    {
      "cell_type": "markdown",
      "metadata": {
        "id": "l7y2s7fSHkHZ",
        "colab_type": "text"
      },
      "source": [
        "Imports\n"
      ]
    },
    {
      "cell_type": "code",
      "metadata": {
        "id": "aSLNFymDHi5-",
        "colab_type": "code",
        "outputId": "d2585064-5bc4-48c5-8f26-1e5ee97032c2",
        "colab": {
          "base_uri": "https://localhost:8080/",
          "height": 52
        }
      },
      "source": [
        "import numpy as np\n",
        "import gym\n",
        "import copy\n",
        "import matplotlib.pyplot as plt\n",
        "import seaborn as sns\n",
        "import time\n",
        "from tqdm.notebook import tqdm"
      ],
      "execution_count": 0,
      "outputs": [
        {
          "output_type": "stream",
          "text": [
            "/usr/local/lib/python3.6/dist-packages/statsmodels/tools/_testing.py:19: FutureWarning: pandas.util.testing is deprecated. Use the functions in the public API at pandas.testing instead.\n",
            "  import pandas.util.testing as tm\n"
          ],
          "name": "stderr"
        }
      ]
    },
    {
      "cell_type": "markdown",
      "metadata": {
        "id": "BGbeyTHWHt2q",
        "colab_type": "text"
      },
      "source": [
        "Agent definition"
      ]
    },
    {
      "cell_type": "code",
      "metadata": {
        "id": "rAlHM-2e9yks",
        "colab_type": "code",
        "colab": {}
      },
      "source": [
        "class Agent:\n",
        "    def __init__(self, env, alpha, gamma):\n",
        "        self.env = env\n",
        "        \n",
        "        not_pr_acts = 2 + 1 + 1 + 1   # gotoS,D + put + get + root (non primitive actions)\n",
        "        nA = env.action_space.n + not_pr_acts       \n",
        "        nS = env.observation_space.n\n",
        "        self.V = np.ones((nA, nS))\n",
        "        self.C = np.ones((nA, nS, nA))\n",
        "        self.V_copy = self.V.copy()\n",
        "        \n",
        "        s = self.south = 0\n",
        "        n = self.north = 1\n",
        "        e = self.east = 2\n",
        "        w = self.west = 3\n",
        "        pickup = self.pickup = 4\n",
        "        dropoff = self.dropoff = 5\n",
        "        gotoS = self.gotoS = 6\n",
        "        gotoD = self.gotoD = 7\n",
        "        get = self.get = 8\n",
        "        put = self.put = 9\n",
        "        root = self.root = 10\n",
        "        \n",
        "        self.graph = [\n",
        "            set(),  # south\n",
        "            set(),  # north\n",
        "            set(),  # east\n",
        "            set(),  # west\n",
        "            set(),  # pickup\n",
        "            set(),  # dropoff\n",
        "            {s, n, e, w},  # gotoSource\n",
        "            {s, n, e, w},  # gotoDestination\n",
        "            {pickup, gotoS},  # get -> pickup, gotoSource\n",
        "            {dropoff, gotoD},  # put -> dropoff, gotoDestination\n",
        "            {put, get},  # root -> put, get\n",
        "        ]\n",
        "        \n",
        "        self.alpha = alpha\n",
        "        self.gamma = gamma\n",
        "        self.r_sum = 0\n",
        "        self.new_s = copy.copy(self.env.s)\n",
        "        self.done = False\n",
        "        self.num_of_ac = 0\n",
        "\n",
        "    def is_primitive(self, act):\n",
        "        if act <= 5:\n",
        "            return True\n",
        "        else:\n",
        "            return False\n",
        "    \n",
        "    def is_terminal(self, a, done):\n",
        "        RGBY = [(0, 0), (0, 4), (4, 0), (4, 3)]\n",
        "        taxirow, taxicol, passidx, destidx = list(self.env.decode(self.env.s))\n",
        "        taxiloc = (taxirow, taxicol)\n",
        "        if done:\n",
        "            return True\n",
        "        elif a == self.root:\n",
        "            return done\n",
        "        elif a == self.put:\n",
        "            return passidx < 4\n",
        "        elif a == self.get:\n",
        "            return passidx >= 4\n",
        "        elif a == self.gotoD:\n",
        "            return passidx >= 4 and taxiloc == RGBY[destidx]\n",
        "        elif a == self.gotoS:\n",
        "            return passidx < 4 and taxiloc == RGBY[passidx]\n",
        "        elif self.is_primitive(a):\n",
        "            # just else\n",
        "            return True\n",
        "\n",
        "        \n",
        "    def evaluate(self, act, s):\n",
        "            if self.is_primitive(act):\n",
        "                return self.V_copy[act, s]\n",
        "            else:\n",
        "                for j in self.graph[act]:\n",
        "                    self.V_copy[j, s] = self.evaluate(j, s)\n",
        "                Q = np.arange(0)\n",
        "                for a2 in self.graph[act]:\n",
        "                    Q = np.concatenate((Q, [self.V_copy[a2, s]]))\n",
        "                max_arg = np.argmax(Q)\n",
        "                return self.V_copy[max_arg, s]\n",
        "            \n",
        "    # e-Greedy Approach with eps=0.001\n",
        "    def greed_act(self, act, s):\n",
        "        e = 0.001\n",
        "        Q = np.arange(0)\n",
        "        possible_a = np.arange(0)\n",
        "        for act2 in self.graph[act]:\n",
        "            if self.is_primitive(act2) or (not self.is_terminal(act2, self.done)):\n",
        "                Q = np.concatenate((Q, [self.V[act2, s] + self.C[act, s, act2]]))\n",
        "                possible_a = np.concatenate((possible_a, [act2]))\n",
        "        max_arg = np.argmax(Q)\n",
        "        if np.random.rand(1) < e:\n",
        "            return np.random.choice(possible_a)\n",
        "        else:\n",
        "            return possible_a[max_arg]\n",
        "        \n",
        "        \n",
        "    def MAXQ_0(self, i, s):  # i is action number\n",
        "        if self.done:\n",
        "            i = 11                  # to end recursion\n",
        "        self.done = False\n",
        "        if self.is_primitive(i):\n",
        "            self.new_s, r, self.done, _ = copy.copy(self.env.step(i))\n",
        "            self.r_sum += r\n",
        "            self.num_of_ac += 1\n",
        "            self.V[i, s] += self.alpha * (r - self.V[i, s])\n",
        "            return 1\n",
        "        elif i <= self.root:\n",
        "            count = 0\n",
        "            while not self.is_terminal(i, self.done): # a is new action num\n",
        "                a = self.greed_act(i, s)\n",
        "                N = self.MAXQ_0(a, s)\n",
        "                self.V_copy = self.V.copy()\n",
        "                evaluate_res = self.evaluate(i, self.new_s)\n",
        "                self.C[i, s, a] += self.alpha * (self.gamma ** N * evaluate_res - self.C[i, s, a])\n",
        "                count += N\n",
        "                s = self.new_s\n",
        "            return count\n",
        "        \n",
        "    def reset(self):\n",
        "        self.env.reset()\n",
        "        self.r_sum = 0\n",
        "        self.num_of_ac = 0\n",
        "        self.done = False\n",
        "        self.new_s = copy.copy(self.env.s)\n"
      ],
      "execution_count": 0,
      "outputs": []
    },
    {
      "cell_type": "markdown",
      "metadata": {
        "id": "e3tn3QwFH4Jz",
        "colab_type": "text"
      },
      "source": [
        "Training Code"
      ]
    },
    {
      "cell_type": "code",
      "metadata": {
        "id": "tL7DX8UdH2kF",
        "colab_type": "code",
        "outputId": "2a6b4e7a-1137-4848-df42-b46f49e63e39",
        "colab": {
          "base_uri": "https://localhost:8080/",
          "height": 644,
          "referenced_widgets": [
            "59368850fd3e49fca50f96f7c91162ac",
            "06554f6518444530acd938c39a401b6a",
            "fba6bb9b71ab4c19aa3cde44ec48aa3b",
            "dbf1b3674ccf4c9fac4e35763aed6b26",
            "6b7d07515c484284bb9a59c0b8717e25",
            "12f4e7fbfd7f4bf7a82e2ca4221fa1eb",
            "133176521a3241fd865a123d6344cac9",
            "4955db7f282444588d27d8c43234900a"
          ]
        }
      },
      "source": [
        "alpha = 0.15\n",
        "gamma = .7\n",
        "env = gym.make('Taxi-v3').env\n",
        "taxi = Agent(env, alpha, gamma)\n",
        "episodes = 5501\n",
        "sum_list = []\n",
        "for j in tqdm(range(episodes)):\n",
        "    taxi.reset()\n",
        "    taxi.MAXQ_0(10, env.s)      # start in root\n",
        "    if taxi.r_sum > -20:\n",
        "      sum_list.append(taxi.r_sum)\n",
        "    if (j % 1000 == 0):\n",
        "        print('already made', j, 'episodes')\n",
        "\n",
        "sns.set(style='darkgrid')\n",
        "sns.set(font_scale=1.5)\n",
        "plt.figure(figsize=(15, 7.5))\n",
        "plt.plot(sum_list)\n",
        "plt.xlabel('episode num')\n",
        "plt.ylabel('points')\n",
        "plt.show()"
      ],
      "execution_count": 0,
      "outputs": [
        {
          "output_type": "display_data",
          "data": {
            "application/vnd.jupyter.widget-view+json": {
              "model_id": "59368850fd3e49fca50f96f7c91162ac",
              "version_minor": 0,
              "version_major": 2
            },
            "text/plain": [
              "HBox(children=(FloatProgress(value=0.0, max=5501.0), HTML(value='')))"
            ]
          },
          "metadata": {
            "tags": []
          }
        },
        {
          "output_type": "stream",
          "text": [
            "already made 0 episodes\n",
            "already made 1000 episodes\n",
            "already made 2000 episodes\n",
            "already made 3000 episodes\n",
            "already made 4000 episodes\n",
            "already made 5000 episodes\n",
            "\n"
          ],
          "name": "stdout"
        },
        {
          "output_type": "display_data",
          "data": {
            "image/png": "[encoded data removed]",
            "text/plain": [
              "<Figure size 1080x540 with 1 Axes>"
            ]
          },
          "metadata": {
            "tags": []
          }
        }
      ]
    }
  ]
}