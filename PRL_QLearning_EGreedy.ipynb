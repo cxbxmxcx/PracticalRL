{
  "nbformat": 4,
  "nbformat_minor": 0,
  "metadata": {
    "colab": {
      "name": "PRL_QLearning_EGreedy.ipynb",
      "provenance": [],
      "collapsed_sections": [],
      "authorship_tag": "ABX9TyNyUWAomToImC4llfN3BtYr",
      "include_colab_link": true
    },
    "kernelspec": {
      "name": "python3",
      "display_name": "Python 3"
    }
  },
  "cells": [
    {
      "cell_type": "markdown",
      "metadata": {
        "id": "view-in-github",
        "colab_type": "text"
      },
      "source": [
        "<a href=\"https://colab.research.google.com/github/cxbxmxcx/PracticalRL/blob/master/PRL_QLearning_EGreedy.ipynb\" target=\"_parent\"><img src=\"https://colab.research.google.com/assets/colab-badge.svg\" alt=\"Open In Colab\"/></a>"
      ]
    },
    {
      "cell_type": "code",
      "metadata": {
        "id": "RO4iZLjFVZwP",
        "colab_type": "code",
        "colab": {}
      },
      "source": [
        "import gym\n",
        "import time\n",
        "import random\n",
        "\n",
        "import numpy as np\n",
        "\n",
        "from IPython.display import clear_output\n"
      ],
      "execution_count": 0,
      "outputs": []
    },
    {
      "cell_type": "code",
      "metadata": {
        "id": "1mLh-xcgVryb",
        "colab_type": "code",
        "colab": {}
      },
      "source": [
        "env = gym.make(\"FrozenLake-v0\")"
      ],
      "execution_count": 0,
      "outputs": []
    },
    {
      "cell_type": "markdown",
      "metadata": {
        "id": "9J_0TTPZ46dG",
        "colab_type": "text"
      },
      "source": [
        "Agent Parameters"
      ]
    },
    {
      "cell_type": "code",
      "metadata": {
        "id": "18VpkbjY49Km",
        "colab_type": "code",
        "colab": {}
      },
      "source": [
        "epsilon = 1.0\n",
        "min_epsilon = 0.01\n",
        "max_epsilon = 1.0\n",
        "decay_rate = 0.001\n",
        "\n",
        "\n",
        "alpha = 0.4  # learning rate\n",
        "gamma = 0.9  # discount factor\n",
        "total_steps = 10000"
      ],
      "execution_count": 0,
      "outputs": []
    },
    {
      "cell_type": "markdown",
      "metadata": {
        "id": "P0JnrqId5Nym",
        "colab_type": "text"
      },
      "source": [
        "Initialize Q Table"
      ]
    },
    {
      "cell_type": "code",
      "metadata": {
        "id": "dTyA5BqQVud8",
        "colab_type": "code",
        "outputId": "fb5fb8bb-f2a8-4cfb-8480-a36af0c59411",
        "colab": {
          "base_uri": "https://localhost:8080/",
          "height": 34
        }
      },
      "source": [
        "#check out the pacman action space!\n",
        "print(env.observation_space.n,env.action_space)"
      ],
      "execution_count": 4,
      "outputs": [
        {
          "output_type": "stream",
          "text": [
            "16 Discrete(4)\n"
          ],
          "name": "stdout"
        }
      ]
    },
    {
      "cell_type": "code",
      "metadata": {
        "id": "3OFNRYNc5RQh",
        "colab_type": "code",
        "outputId": "3440110e-cf98-4836-bc3f-c57781476462",
        "colab": {
          "base_uri": "https://localhost:8080/",
          "height": 289
        }
      },
      "source": [
        "Q = np.ones((env.observation_space.n, env.action_space.n))\n",
        "print(Q)"
      ],
      "execution_count": 5,
      "outputs": [
        {
          "output_type": "stream",
          "text": [
            "[[1. 1. 1. 1.]\n",
            " [1. 1. 1. 1.]\n",
            " [1. 1. 1. 1.]\n",
            " [1. 1. 1. 1.]\n",
            " [1. 1. 1. 1.]\n",
            " [1. 1. 1. 1.]\n",
            " [1. 1. 1. 1.]\n",
            " [1. 1. 1. 1.]\n",
            " [1. 1. 1. 1.]\n",
            " [1. 1. 1. 1.]\n",
            " [1. 1. 1. 1.]\n",
            " [1. 1. 1. 1.]\n",
            " [1. 1. 1. 1.]\n",
            " [1. 1. 1. 1.]\n",
            " [1. 1. 1. 1.]\n",
            " [1. 1. 1. 1.]]\n"
          ],
          "name": "stdout"
        }
      ]
    },
    {
      "cell_type": "markdown",
      "metadata": {
        "id": "riUgbhEQ5rl1",
        "colab_type": "text"
      },
      "source": [
        "Selecting an Action with Exploration"
      ]
    },
    {
      "cell_type": "code",
      "metadata": {
        "id": "H8br9NbA5vo9",
        "colab_type": "code",
        "colab": {}
      },
      "source": [
        "def act(state):\n",
        "  \n",
        "  if np.random.uniform(0, 1) < epsilon:\n",
        "    action = env.action_space.sample()\n",
        "  else:\n",
        "    action = np.argmax(Q[state, :])\n",
        "  return action\n",
        "    "
      ],
      "execution_count": 0,
      "outputs": []
    },
    {
      "cell_type": "markdown",
      "metadata": {
        "id": "qlSzd6DT538l",
        "colab_type": "text"
      },
      "source": [
        "Learning"
      ]
    },
    {
      "cell_type": "code",
      "metadata": {
        "id": "KP-UZ2D-58CM",
        "colab_type": "code",
        "colab": {}
      },
      "source": [
        "def learn(state, state2, reward, action):\n",
        "  predict = Q[state, action]\n",
        "  target = reward + gamma * np.max(Q[state2, :])\n",
        "  Q[state, action] = Q[state, action] + alpha * (target - predict)"
      ],
      "execution_count": 0,
      "outputs": []
    },
    {
      "cell_type": "markdown",
      "metadata": {
        "id": "gi3ZCbDe6wAo",
        "colab_type": "text"
      },
      "source": [
        "Rendering the Environment"
      ]
    },
    {
      "cell_type": "code",
      "metadata": {
        "id": "PDk3a7UA6ywH",
        "colab_type": "code",
        "colab": {}
      },
      "source": [
        "def render(t, env, e):\n",
        "  clear_output()\n",
        "  print(f'Rendering Learning Step {t}: Exploration:{e}')\n",
        "  env.render()\n",
        "  print(Q)\n",
        "  if t < 20:\n",
        "    time.sleep(2)\n",
        "  elif t % 100 == 0:\n",
        "    time.sleep(2)"
      ],
      "execution_count": 0,
      "outputs": []
    },
    {
      "cell_type": "code",
      "metadata": {
        "id": "jOBboCTuVxN-",
        "colab_type": "code",
        "outputId": "7ee7af61-30c5-4e50-a2c2-263797a32ebc",
        "colab": {
          "base_uri": "https://localhost:8080/",
          "height": 391
        }
      },
      "source": [
        "learning_steps = 0\n",
        "while learning_steps < total_steps:\n",
        "  state = env.reset() \n",
        "  while True:\n",
        "    render(learning_steps, env, epsilon)\n",
        "\n",
        "    action = act(state)  \n",
        "    state2, reward, done, info = env.step(action) \n",
        "    learn(state, state2, reward, action)\n",
        "    state = state2\n",
        "\n",
        "    learning_steps += 1\n",
        "    epsilon = min_epsilon + (max_epsilon - min_epsilon) * np.exp(-decay_rate * learning_steps) \n",
        "               \n",
        "    if done:\n",
        "        break\n",
        "            \n",
        "env.close()\n"
      ],
      "execution_count": 9,
      "outputs": [
        {
          "output_type": "stream",
          "text": [
            "Rendering Learning Step 9999: Exploration:0.010044990898875783\n",
            "  (Down)\n",
            "SFFF\n",
            "\u001b[41mF\u001b[0mHFH\n",
            "FFFH\n",
            "HFFG\n",
            "[[0.48661727 0.73779009 0.49648967 0.48901889]\n",
            " [0.53474751 0.81123625 0.5831306  0.53393839]\n",
            " [0.51291834 0.75820382 0.50996389 0.51380318]\n",
            " [0.52918147 0.5351916  0.81750411 0.51721472]\n",
            " [0.63048169 0.85977959 0.6094374  0.62605649]\n",
            " [1.         1.         1.         1.        ]\n",
            " [0.71618235 0.89717776 0.7227442  0.69353284]\n",
            " [1.         1.         1.         1.        ]\n",
            " [0.60518419 0.75125564 0.74042574 0.65430939]\n",
            " [0.73677399 0.75157265 0.80578631 0.71578659]\n",
            " [0.75882698 0.82488815 1.10490341 0.74626549]\n",
            " [1.         1.         1.         1.        ]\n",
            " [1.         1.         1.         1.        ]\n",
            " [0.78556737 0.94066485 0.80582693 0.77084301]\n",
            " [0.84134644 0.83400567 1.74771845 0.84921226]\n",
            " [1.         1.         1.         1.        ]]\n"
          ],
          "name": "stdout"
        }
      ]
    }
  ]
}